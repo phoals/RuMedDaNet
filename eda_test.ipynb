{
 "cells": [
  {
   "cell_type": "code",
   "execution_count": 1,
   "id": "a7d3aa58",
   "metadata": {},
   "outputs": [],
   "source": [
    "import pandas as pd \n",
    "import numpy as np"
   ]
  },
  {
   "cell_type": "code",
   "execution_count": 33,
   "id": "ea4c3960",
   "metadata": {},
   "outputs": [],
   "source": [
    "from fuzzywuzzy import fuzz\n",
    "from fuzzywuzzy import process"
   ]
  },
  {
   "cell_type": "code",
   "execution_count": 51,
   "id": "604d2d78",
   "metadata": {},
   "outputs": [],
   "source": [
    "import matplotlib\n",
    "import matplotlib.pyplot as plt\n",
    "import seaborn as sns"
   ]
  },
  {
   "cell_type": "code",
   "execution_count": 196,
   "id": "b78796b9",
   "metadata": {},
   "outputs": [],
   "source": [
    "from sklearn.feature_extraction.text import TfidfVectorizer\n",
    "from sklearn import preprocessing\n",
    "from sklearn.preprocessing import MinMaxScaler"
   ]
  },
  {
   "cell_type": "code",
   "execution_count": 174,
   "id": "ed919747",
   "metadata": {},
   "outputs": [],
   "source": [
    "from sklearn.model_selection import train_test_split\n",
    "import nltk\n",
    "import string\n",
    "from nltk.corpus import stopwords\n",
    "from nltk.tokenize import word_tokenize\n",
    "from nltk.stem import SnowballStemmer\n",
    "from sklearn.pipeline import Pipeline\n",
    "from sklearn.linear_model import LogisticRegression\n",
    "from sklearn.feature_extraction.text import TfidfVectorizer\n",
    "from sklearn.metrics import precision_score, recall_score, precision_recall_curve\n",
    "from matplotlib import pyplot as plt\n",
    "from sklearn.metrics import plot_precision_recall_curve\n",
    "from sklearn.model_selection import GridSearchCV"
   ]
  },
  {
   "cell_type": "code",
   "execution_count": 19,
   "id": "7eafa2ca",
   "metadata": {},
   "outputs": [],
   "source": [
    "data = pd.read_json('train.json', lines=True)"
   ]
  },
  {
   "cell_type": "code",
   "execution_count": 30,
   "id": "50ba5592",
   "metadata": {},
   "outputs": [
    {
     "data": {
      "text/html": [
       "<div>\n",
       "<style scoped>\n",
       "    .dataframe tbody tr th:only-of-type {\n",
       "        vertical-align: middle;\n",
       "    }\n",
       "\n",
       "    .dataframe tbody tr th {\n",
       "        vertical-align: top;\n",
       "    }\n",
       "\n",
       "    .dataframe thead th {\n",
       "        text-align: right;\n",
       "    }\n",
       "</style>\n",
       "<table border=\"1\" class=\"dataframe\">\n",
       "  <thead>\n",
       "    <tr style=\"text-align: right;\">\n",
       "      <th></th>\n",
       "      <th>context</th>\n",
       "      <th>question</th>\n",
       "      <th>answer</th>\n",
       "      <th>pairID</th>\n",
       "      <th>answer_bin</th>\n",
       "    </tr>\n",
       "  </thead>\n",
       "  <tbody>\n",
       "    <tr>\n",
       "      <th>0</th>\n",
       "      <td>Способность к адаптации сенсорной системы к по...</td>\n",
       "      <td>Является ли сниженние абсолютной чувствительно...</td>\n",
       "      <td>да</td>\n",
       "      <td>571247699fe0b04318e283fb82bac5bd</td>\n",
       "      <td>1</td>\n",
       "    </tr>\n",
       "    <tr>\n",
       "      <th>1</th>\n",
       "      <td>Обеспечение возможности познания внешнего мира...</td>\n",
       "      <td>Бывет ли, что люди со выраженным нарушением зр...</td>\n",
       "      <td>нет</td>\n",
       "      <td>7abba7d0ebdd11d6ccaed554ebd1900a</td>\n",
       "      <td>0</td>\n",
       "    </tr>\n",
       "    <tr>\n",
       "      <th>2</th>\n",
       "      <td>Ощущение положения тела в пространстве связано...</td>\n",
       "      <td>Двигательный анализатор вносит значительный вк...</td>\n",
       "      <td>да</td>\n",
       "      <td>a926a713418b6078db042e33bf1eea29</td>\n",
       "      <td>1</td>\n",
       "    </tr>\n",
       "    <tr>\n",
       "      <th>3</th>\n",
       "      <td>Нуждаемость в санитарной обработке не определя...</td>\n",
       "      <td>Сильные кислоты нельзя отнести к \"агрессивным\"...</td>\n",
       "      <td>нет</td>\n",
       "      <td>ab409ce3b0e248506bc164ec47d151e3</td>\n",
       "      <td>0</td>\n",
       "    </tr>\n",
       "    <tr>\n",
       "      <th>4</th>\n",
       "      <td>Ведущим фактором лучевого поражения организма,...</td>\n",
       "      <td>Могут ли клетки, сохранившие жизнеспособность,...</td>\n",
       "      <td>да</td>\n",
       "      <td>3bee65e5934a3a7bcad46067ab900029</td>\n",
       "      <td>1</td>\n",
       "    </tr>\n",
       "    <tr>\n",
       "      <th>...</th>\n",
       "      <td>...</td>\n",
       "      <td>...</td>\n",
       "      <td>...</td>\n",
       "      <td>...</td>\n",
       "      <td>...</td>\n",
       "    </tr>\n",
       "    <tr>\n",
       "      <th>1303</th>\n",
       "      <td>Активное вещество Кондилина — подофиллотоксин ...</td>\n",
       "      <td>Подофиллотоксин является веществом синтетическ...</td>\n",
       "      <td>нет</td>\n",
       "      <td>d5f5f62ecf49f9a0c8c8b132865b601f</td>\n",
       "      <td>0</td>\n",
       "    </tr>\n",
       "    <tr>\n",
       "      <th>1304</th>\n",
       "      <td>Опоясывающий лишай (опоясывающий герпес) — ост...</td>\n",
       "      <td>В организме вирус сохраняется в узлах тройничн...</td>\n",
       "      <td>да</td>\n",
       "      <td>d913dd3bf7425919ecf6ee4f60b59218</td>\n",
       "      <td>1</td>\n",
       "    </tr>\n",
       "    <tr>\n",
       "      <th>1305</th>\n",
       "      <td>Листерии — короткие грамположительные палочки,...</td>\n",
       "      <td>Эта инфекция попадает в организм человека чере...</td>\n",
       "      <td>нет</td>\n",
       "      <td>d761bf616b3c73ee968192fe9099daea</td>\n",
       "      <td>0</td>\n",
       "    </tr>\n",
       "    <tr>\n",
       "      <th>1306</th>\n",
       "      <td>Диагноз биполярного аффективного расстройства ...</td>\n",
       "      <td>Биполярное расстройство относится к рецидивиру...</td>\n",
       "      <td>да</td>\n",
       "      <td>6a868ee8ae15e107a29eaa0733fea60a</td>\n",
       "      <td>1</td>\n",
       "    </tr>\n",
       "    <tr>\n",
       "      <th>1307</th>\n",
       "      <td>Кома — состояние глубокого угнетения функций ц...</td>\n",
       "      <td>В данном состоянии больной может отвечать на в...</td>\n",
       "      <td>нет</td>\n",
       "      <td>d1ff99e75e3b81b64e868ba143cef917</td>\n",
       "      <td>0</td>\n",
       "    </tr>\n",
       "  </tbody>\n",
       "</table>\n",
       "<p>1308 rows × 5 columns</p>\n",
       "</div>"
      ],
      "text/plain": [
       "                                                context  \\\n",
       "0     Способность к адаптации сенсорной системы к по...   \n",
       "1     Обеспечение возможности познания внешнего мира...   \n",
       "2     Ощущение положения тела в пространстве связано...   \n",
       "3     Нуждаемость в санитарной обработке не определя...   \n",
       "4     Ведущим фактором лучевого поражения организма,...   \n",
       "...                                                 ...   \n",
       "1303  Активное вещество Кондилина — подофиллотоксин ...   \n",
       "1304  Опоясывающий лишай (опоясывающий герпес) — ост...   \n",
       "1305  Листерии — короткие грамположительные палочки,...   \n",
       "1306  Диагноз биполярного аффективного расстройства ...   \n",
       "1307  Кома — состояние глубокого угнетения функций ц...   \n",
       "\n",
       "                                               question answer  \\\n",
       "0     Является ли сниженние абсолютной чувствительно...     да   \n",
       "1     Бывет ли, что люди со выраженным нарушением зр...    нет   \n",
       "2     Двигательный анализатор вносит значительный вк...     да   \n",
       "3     Сильные кислоты нельзя отнести к \"агрессивным\"...    нет   \n",
       "4     Могут ли клетки, сохранившие жизнеспособность,...     да   \n",
       "...                                                 ...    ...   \n",
       "1303  Подофиллотоксин является веществом синтетическ...    нет   \n",
       "1304  В организме вирус сохраняется в узлах тройничн...     да   \n",
       "1305  Эта инфекция попадает в организм человека чере...    нет   \n",
       "1306  Биполярное расстройство относится к рецидивиру...     да   \n",
       "1307  В данном состоянии больной может отвечать на в...    нет   \n",
       "\n",
       "                                pairID  answer_bin  \n",
       "0     571247699fe0b04318e283fb82bac5bd           1  \n",
       "1     7abba7d0ebdd11d6ccaed554ebd1900a           0  \n",
       "2     a926a713418b6078db042e33bf1eea29           1  \n",
       "3     ab409ce3b0e248506bc164ec47d151e3           0  \n",
       "4     3bee65e5934a3a7bcad46067ab900029           1  \n",
       "...                                ...         ...  \n",
       "1303  d5f5f62ecf49f9a0c8c8b132865b601f           0  \n",
       "1304  d913dd3bf7425919ecf6ee4f60b59218           1  \n",
       "1305  d761bf616b3c73ee968192fe9099daea           0  \n",
       "1306  6a868ee8ae15e107a29eaa0733fea60a           1  \n",
       "1307  d1ff99e75e3b81b64e868ba143cef917           0  \n",
       "\n",
       "[1308 rows x 5 columns]"
      ]
     },
     "execution_count": 30,
     "metadata": {},
     "output_type": "execute_result"
    }
   ],
   "source": [
    "data"
   ]
  },
  {
   "cell_type": "code",
   "execution_count": 23,
   "id": "13a7554f",
   "metadata": {},
   "outputs": [
    {
     "data": {
      "text/plain": [
       "нет    654\n",
       "да     654\n",
       "Name: answer, dtype: int64"
      ]
     },
     "execution_count": 23,
     "metadata": {},
     "output_type": "execute_result"
    }
   ],
   "source": [
    "data['answer'].value_counts()"
   ]
  },
  {
   "cell_type": "code",
   "execution_count": 13,
   "id": "e912f48e",
   "metadata": {},
   "outputs": [
    {
     "name": "stdout",
     "output_type": "stream",
     "text": [
      "Способность к адаптации сенсорной системы к постоянной силе длительно действующего раздражителя заключается в основном в понижении абсолютной и повышении дифференциальной чувствительности. Это свойство присуще всем отделам анализатора, но наиболее ярко оно проявляется на уровне рецепторов и заключается в изменении не только их возбудимости и импульсации, но и показателей функциональной мобильности, т.е. способности к изменению числа функционирующих рецепторных структур (П.Г.Снякин).\n",
      "\n",
      "Является ли сниженние абсолютной чувствительности рецепторов одним из основных способов адаптации сенсорной системы?\n",
      "\n",
      "да\n"
     ]
    }
   ],
   "source": [
    "print(data['context'][0])\n",
    "print()\n",
    "print(data['question'][0])\n",
    "print()\n",
    "print(data['answer'][0])"
   ]
  },
  {
   "cell_type": "code",
   "execution_count": 14,
   "id": "1212e752",
   "metadata": {},
   "outputs": [
    {
     "name": "stdout",
     "output_type": "stream",
     "text": [
      "Обеспечение возможности познания внешнего мира. Внешние анализаторы — это многоканальная система связи с внешним миром, поскольку организм имеет не один анализатор, а несколько. С помощью анализаторов организм познает свойства предметов и явлений окружающей среды, полезные и негативные стороны его воздействия. Поэтому нарушения функции внешних анализаторов, особенно зрительного и слухового, чрезвычайно сильно затрудняют познание внешнего мира (очень беден окружающий мир для слепого или глухого).\n",
      "\n",
      "Бывет ли, что люди со выраженным нарушением зрительной и слуховой функции не испытавают значительных нарушений в познании внешнего мира?\n",
      "\n",
      "нет\n"
     ]
    }
   ],
   "source": [
    "print(data['context'][1])\n",
    "print()\n",
    "print(data['question'][1])\n",
    "print()\n",
    "print(data['answer'][1])"
   ]
  },
  {
   "cell_type": "code",
   "execution_count": 29,
   "id": "e2f7bd81",
   "metadata": {},
   "outputs": [],
   "source": [
    "data['answer_bin'] = [1 if x == 'да' else 0 for x in data['answer']]"
   ]
  },
  {
   "cell_type": "code",
   "execution_count": 31,
   "id": "053beaa3",
   "metadata": {},
   "outputs": [],
   "source": [
    "data_droped = data.drop(['answer', 'pairID'], axis=1)"
   ]
  },
  {
   "cell_type": "code",
   "execution_count": 32,
   "id": "fe478144",
   "metadata": {},
   "outputs": [
    {
     "data": {
      "text/html": [
       "<div>\n",
       "<style scoped>\n",
       "    .dataframe tbody tr th:only-of-type {\n",
       "        vertical-align: middle;\n",
       "    }\n",
       "\n",
       "    .dataframe tbody tr th {\n",
       "        vertical-align: top;\n",
       "    }\n",
       "\n",
       "    .dataframe thead th {\n",
       "        text-align: right;\n",
       "    }\n",
       "</style>\n",
       "<table border=\"1\" class=\"dataframe\">\n",
       "  <thead>\n",
       "    <tr style=\"text-align: right;\">\n",
       "      <th></th>\n",
       "      <th>context</th>\n",
       "      <th>question</th>\n",
       "      <th>answer_bin</th>\n",
       "    </tr>\n",
       "  </thead>\n",
       "  <tbody>\n",
       "    <tr>\n",
       "      <th>0</th>\n",
       "      <td>Способность к адаптации сенсорной системы к по...</td>\n",
       "      <td>Является ли сниженние абсолютной чувствительно...</td>\n",
       "      <td>1</td>\n",
       "    </tr>\n",
       "    <tr>\n",
       "      <th>1</th>\n",
       "      <td>Обеспечение возможности познания внешнего мира...</td>\n",
       "      <td>Бывет ли, что люди со выраженным нарушением зр...</td>\n",
       "      <td>0</td>\n",
       "    </tr>\n",
       "    <tr>\n",
       "      <th>2</th>\n",
       "      <td>Ощущение положения тела в пространстве связано...</td>\n",
       "      <td>Двигательный анализатор вносит значительный вк...</td>\n",
       "      <td>1</td>\n",
       "    </tr>\n",
       "    <tr>\n",
       "      <th>3</th>\n",
       "      <td>Нуждаемость в санитарной обработке не определя...</td>\n",
       "      <td>Сильные кислоты нельзя отнести к \"агрессивным\"...</td>\n",
       "      <td>0</td>\n",
       "    </tr>\n",
       "    <tr>\n",
       "      <th>4</th>\n",
       "      <td>Ведущим фактором лучевого поражения организма,...</td>\n",
       "      <td>Могут ли клетки, сохранившие жизнеспособность,...</td>\n",
       "      <td>1</td>\n",
       "    </tr>\n",
       "    <tr>\n",
       "      <th>...</th>\n",
       "      <td>...</td>\n",
       "      <td>...</td>\n",
       "      <td>...</td>\n",
       "    </tr>\n",
       "    <tr>\n",
       "      <th>1303</th>\n",
       "      <td>Активное вещество Кондилина — подофиллотоксин ...</td>\n",
       "      <td>Подофиллотоксин является веществом синтетическ...</td>\n",
       "      <td>0</td>\n",
       "    </tr>\n",
       "    <tr>\n",
       "      <th>1304</th>\n",
       "      <td>Опоясывающий лишай (опоясывающий герпес) — ост...</td>\n",
       "      <td>В организме вирус сохраняется в узлах тройничн...</td>\n",
       "      <td>1</td>\n",
       "    </tr>\n",
       "    <tr>\n",
       "      <th>1305</th>\n",
       "      <td>Листерии — короткие грамположительные палочки,...</td>\n",
       "      <td>Эта инфекция попадает в организм человека чере...</td>\n",
       "      <td>0</td>\n",
       "    </tr>\n",
       "    <tr>\n",
       "      <th>1306</th>\n",
       "      <td>Диагноз биполярного аффективного расстройства ...</td>\n",
       "      <td>Биполярное расстройство относится к рецидивиру...</td>\n",
       "      <td>1</td>\n",
       "    </tr>\n",
       "    <tr>\n",
       "      <th>1307</th>\n",
       "      <td>Кома — состояние глубокого угнетения функций ц...</td>\n",
       "      <td>В данном состоянии больной может отвечать на в...</td>\n",
       "      <td>0</td>\n",
       "    </tr>\n",
       "  </tbody>\n",
       "</table>\n",
       "<p>1308 rows × 3 columns</p>\n",
       "</div>"
      ],
      "text/plain": [
       "                                                context  \\\n",
       "0     Способность к адаптации сенсорной системы к по...   \n",
       "1     Обеспечение возможности познания внешнего мира...   \n",
       "2     Ощущение положения тела в пространстве связано...   \n",
       "3     Нуждаемость в санитарной обработке не определя...   \n",
       "4     Ведущим фактором лучевого поражения организма,...   \n",
       "...                                                 ...   \n",
       "1303  Активное вещество Кондилина — подофиллотоксин ...   \n",
       "1304  Опоясывающий лишай (опоясывающий герпес) — ост...   \n",
       "1305  Листерии — короткие грамположительные палочки,...   \n",
       "1306  Диагноз биполярного аффективного расстройства ...   \n",
       "1307  Кома — состояние глубокого угнетения функций ц...   \n",
       "\n",
       "                                               question  answer_bin  \n",
       "0     Является ли сниженние абсолютной чувствительно...           1  \n",
       "1     Бывет ли, что люди со выраженным нарушением зр...           0  \n",
       "2     Двигательный анализатор вносит значительный вк...           1  \n",
       "3     Сильные кислоты нельзя отнести к \"агрессивным\"...           0  \n",
       "4     Могут ли клетки, сохранившие жизнеспособность,...           1  \n",
       "...                                                 ...         ...  \n",
       "1303  Подофиллотоксин является веществом синтетическ...           0  \n",
       "1304  В организме вирус сохраняется в узлах тройничн...           1  \n",
       "1305  Эта инфекция попадает в организм человека чере...           0  \n",
       "1306  Биполярное расстройство относится к рецидивиру...           1  \n",
       "1307  В данном состоянии больной может отвечать на в...           0  \n",
       "\n",
       "[1308 rows x 3 columns]"
      ]
     },
     "execution_count": 32,
     "metadata": {},
     "output_type": "execute_result"
    }
   ],
   "source": [
    "data_droped"
   ]
  },
  {
   "cell_type": "code",
   "execution_count": 34,
   "id": "3fc22e8b",
   "metadata": {},
   "outputs": [],
   "source": [
    "data_fuzz = data_droped.copy()"
   ]
  },
  {
   "cell_type": "code",
   "execution_count": 70,
   "id": "161e1fa6",
   "metadata": {},
   "outputs": [],
   "source": [
    "WRatio = []\n",
    "token_sort_ratio = []\n",
    "partial_ratio = []\n",
    "\n",
    "for i in range(len(data_fuzz)):\n",
    "    WRatio.append(fuzz.WRatio(data_fuzz['context'][i], data_fuzz['question'][i]))\n",
    "    token_sort_ratio.append(fuzz.token_sort_ratio(data_fuzz['context'][i], data_fuzz['question'][i]))\n",
    "    partial_ratio.append(fuzz.partial_ratio(data_fuzz['context'][i], data_fuzz['question'][i]))"
   ]
  },
  {
   "cell_type": "code",
   "execution_count": 71,
   "id": "6517ad85",
   "metadata": {},
   "outputs": [],
   "source": [
    "data_fuzz['WRatio'] = WRatio\n",
    "data_fuzz['token_sort_ratio'] = token_sort_ratio\n",
    "data_fuzz['partial_ratio'] = partial_ratio"
   ]
  },
  {
   "cell_type": "code",
   "execution_count": 64,
   "id": "943b255b",
   "metadata": {},
   "outputs": [
    {
     "data": {
      "image/png": "[encoded data removed]",
      "text/plain": [
       "<Figure size 360x360 with 1 Axes>"
      ]
     },
     "metadata": {
      "needs_background": "light"
     },
     "output_type": "display_data"
    },
    {
     "data": {
      "image/png": "[encoded data removed]",
      "text/plain": [
       "<Figure size 360x360 with 1 Axes>"
      ]
     },
     "metadata": {
      "needs_background": "light"
     },
     "output_type": "display_data"
    }
   ],
   "source": [
    "data = data_fuzz[data_fuzz['answer_bin'] > 0]['WRatio']\n",
    "\n",
    "sns.displot(data, bins = 30)\n",
    "\n",
    "plt.show()\n",
    "\n",
    "data = data_fuzz[data_fuzz['answer_bin'] == 0]['WRatio']\n",
    "\n",
    "sns.displot(data, bins = 30, color=\"red\")\n",
    "\n",
    "plt.show()"
   ]
  },
  {
   "cell_type": "code",
   "execution_count": 69,
   "id": "a8bc44be",
   "metadata": {},
   "outputs": [
    {
     "data": {
      "image/png": "[encoded data removed]",
      "text/plain": [
       "<Figure size 360x360 with 1 Axes>"
      ]
     },
     "metadata": {
      "needs_background": "light"
     },
     "output_type": "display_data"
    },
    {
     "data": {
      "image/png": "[encoded data removed]",
      "text/plain": [
       "<Figure size 360x360 with 1 Axes>"
      ]
     },
     "metadata": {
      "needs_background": "light"
     },
     "output_type": "display_data"
    }
   ],
   "source": [
    "data = data_fuzz[data_fuzz['answer_bin'] > 0]['token_sort_ratio']\n",
    "\n",
    "sns.displot(data, bins = 30)\n",
    "\n",
    "plt.show()\n",
    "\n",
    "data = data_fuzz[data_fuzz['answer_bin'] == 0]['token_sort_ratio']\n",
    "\n",
    "sns.displot(data, bins = 30, color=\"red\")\n",
    "\n",
    "plt.show()"
   ]
  },
  {
   "cell_type": "code",
   "execution_count": 72,
   "id": "b996643a",
   "metadata": {},
   "outputs": [
    {
     "data": {
      "image/png": "[encoded data removed]",
      "text/plain": [
       "<Figure size 360x360 with 1 Axes>"
      ]
     },
     "metadata": {
      "needs_background": "light"
     },
     "output_type": "display_data"
    },
    {
     "data": {
      "image/png": "[encoded data removed]",
      "text/plain": [
       "<Figure size 360x360 with 1 Axes>"
      ]
     },
     "metadata": {
      "needs_background": "light"
     },
     "output_type": "display_data"
    }
   ],
   "source": [
    "data = data_fuzz[data_fuzz['answer_bin'] > 0]['partial_ratio']\n",
    "\n",
    "sns.displot(data, bins = 30)\n",
    "\n",
    "plt.show()\n",
    "\n",
    "data = data_fuzz[data_fuzz['answer_bin'] == 0]['partial_ratio']\n",
    "\n",
    "sns.displot(data, bins = 30, color=\"red\")\n",
    "\n",
    "plt.show()"
   ]
  },
  {
   "cell_type": "code",
   "execution_count": 74,
   "id": "fbda0115",
   "metadata": {},
   "outputs": [
    {
     "data": {
      "text/html": [
       "<div>\n",
       "<style scoped>\n",
       "    .dataframe tbody tr th:only-of-type {\n",
       "        vertical-align: middle;\n",
       "    }\n",
       "\n",
       "    .dataframe tbody tr th {\n",
       "        vertical-align: top;\n",
       "    }\n",
       "\n",
       "    .dataframe thead th {\n",
       "        text-align: right;\n",
       "    }\n",
       "</style>\n",
       "<table border=\"1\" class=\"dataframe\">\n",
       "  <thead>\n",
       "    <tr style=\"text-align: right;\">\n",
       "      <th></th>\n",
       "      <th>context</th>\n",
       "      <th>question</th>\n",
       "      <th>answer_bin</th>\n",
       "      <th>WRatio</th>\n",
       "      <th>token_sort_ratio</th>\n",
       "      <th>partial_ratio</th>\n",
       "    </tr>\n",
       "  </thead>\n",
       "  <tbody>\n",
       "    <tr>\n",
       "      <th>0</th>\n",
       "      <td>Способность к адаптации сенсорной системы к по...</td>\n",
       "      <td>Является ли сниженние абсолютной чувствительно...</td>\n",
       "      <td>1</td>\n",
       "      <td>86</td>\n",
       "      <td>35</td>\n",
       "      <td>49</td>\n",
       "    </tr>\n",
       "    <tr>\n",
       "      <th>1</th>\n",
       "      <td>Обеспечение возможности познания внешнего мира...</td>\n",
       "      <td>Бывет ли, что люди со выраженным нарушением зр...</td>\n",
       "      <td>0</td>\n",
       "      <td>86</td>\n",
       "      <td>33</td>\n",
       "      <td>53</td>\n",
       "    </tr>\n",
       "    <tr>\n",
       "      <th>2</th>\n",
       "      <td>Ощущение положения тела в пространстве связано...</td>\n",
       "      <td>Двигательный анализатор вносит значительный вк...</td>\n",
       "      <td>1</td>\n",
       "      <td>86</td>\n",
       "      <td>56</td>\n",
       "      <td>46</td>\n",
       "    </tr>\n",
       "    <tr>\n",
       "      <th>3</th>\n",
       "      <td>Нуждаемость в санитарной обработке не определя...</td>\n",
       "      <td>Сильные кислоты нельзя отнести к \"агрессивным\"...</td>\n",
       "      <td>0</td>\n",
       "      <td>86</td>\n",
       "      <td>52</td>\n",
       "      <td>54</td>\n",
       "    </tr>\n",
       "    <tr>\n",
       "      <th>4</th>\n",
       "      <td>Ведущим фактором лучевого поражения организма,...</td>\n",
       "      <td>Могут ли клетки, сохранившие жизнеспособность,...</td>\n",
       "      <td>1</td>\n",
       "      <td>86</td>\n",
       "      <td>48</td>\n",
       "      <td>57</td>\n",
       "    </tr>\n",
       "  </tbody>\n",
       "</table>\n",
       "</div>"
      ],
      "text/plain": [
       "                                             context  \\\n",
       "0  Способность к адаптации сенсорной системы к по...   \n",
       "1  Обеспечение возможности познания внешнего мира...   \n",
       "2  Ощущение положения тела в пространстве связано...   \n",
       "3  Нуждаемость в санитарной обработке не определя...   \n",
       "4  Ведущим фактором лучевого поражения организма,...   \n",
       "\n",
       "                                            question  answer_bin  WRatio  \\\n",
       "0  Является ли сниженние абсолютной чувствительно...           1      86   \n",
       "1  Бывет ли, что люди со выраженным нарушением зр...           0      86   \n",
       "2  Двигательный анализатор вносит значительный вк...           1      86   \n",
       "3  Сильные кислоты нельзя отнести к \"агрессивным\"...           0      86   \n",
       "4  Могут ли клетки, сохранившие жизнеспособность,...           1      86   \n",
       "\n",
       "   token_sort_ratio  partial_ratio  \n",
       "0                35             49  \n",
       "1                33             53  \n",
       "2                56             46  \n",
       "3                52             54  \n",
       "4                48             57  "
      ]
     },
     "execution_count": 74,
     "metadata": {},
     "output_type": "execute_result"
    }
   ],
   "source": [
    "data_fuzz.head()"
   ]
  },
  {
   "cell_type": "code",
   "execution_count": 75,
   "id": "8200c661",
   "metadata": {},
   "outputs": [],
   "source": [
    "# TF IDF"
   ]
  },
  {
   "cell_type": "code",
   "execution_count": 89,
   "id": "8e963d43",
   "metadata": {},
   "outputs": [],
   "source": [
    "corpus = []\n",
    "corpus_text = ''\n",
    "for i in range(len(data_fuzz)):\n",
    "    corpus.append(data_fuzz['context'][i])\n",
    "    corpus.append(data_fuzz['question'][i])\n",
    "    corpus_text += data_fuzz['question'][i] + data_fuzz['context'][i]"
   ]
  },
  {
   "cell_type": "code",
   "execution_count": 81,
   "id": "9a7e3a22",
   "metadata": {},
   "outputs": [],
   "source": [
    "# tfidfVec = TfidfVectorizer()\n",
    "# tfidf = tfidfVec.fit_transform(corpus)"
   ]
  },
  {
   "cell_type": "code",
   "execution_count": 83,
   "id": "467b29b3",
   "metadata": {},
   "outputs": [],
   "source": [
    "# print(\"\\ n Слововая матрица частоты (TF-IDF):\")\n",
    "# print(tfidf)\n",
    "# print(\"\\ n модель фраз (TF-IDF):\")\n",
    "# print(tfidf.toarray())"
   ]
  },
  {
   "cell_type": "code",
   "execution_count": 86,
   "id": "4541d8f3",
   "metadata": {},
   "outputs": [],
   "source": [
    "from nlp_rake import Rake\n",
    "import nltk\n",
    "from nltk.corpus import stopwords\n",
    "stops = list(set(stopwords.words(\"russian\")))"
   ]
  },
  {
   "cell_type": "code",
   "execution_count": 149,
   "id": "f572576c",
   "metadata": {},
   "outputs": [],
   "source": [
    "rake = Rake(stopwords = stops, max_words = 3)"
   ]
  },
  {
   "cell_type": "code",
   "execution_count": 150,
   "id": "5dd9c1da",
   "metadata": {},
   "outputs": [
    {
     "data": {
      "text/plain": [
       "[('вы-явление тератогенных свойств', 9.0),\n",
       " ('обмундирования стойкими бов', 9.0),\n",
       " ('сих пор судят', 9.0),\n",
       " ('главное связующее звено', 9.0),\n",
       " ('шеррингтона называют ноцицепторами', 9.0),\n",
       " ('враженной гиперпродукцией церуллоплазмина', 9.0),\n",
       " ('нашла своего объяснения', 9.0),\n",
       " ('методики открытых катетеров', 9.0),\n",
       " ('купированный медикаментозно пропафенон', 9.0),\n",
       " ('глубинные внутриличностные конфликты', 9.0)]"
      ]
     },
     "execution_count": 150,
     "metadata": {},
     "output_type": "execute_result"
    }
   ],
   "source": [
    "rake.apply(corpus_text) [:10]"
   ]
  },
  {
   "cell_type": "code",
   "execution_count": 151,
   "id": "0b61b33d",
   "metadata": {},
   "outputs": [
    {
     "data": {
      "text/plain": [
       "[('адаптации сенсорной системы', 9.0),\n",
       " ('повышении дифференциальной чувствительности', 9.0),\n",
       " ('показателей функциональной мобильности', 9.0),\n",
       " ('понижении абсолютной', 4.0),\n",
       " ('уровне рецепторов', 4.0),\n",
       " ('способность', 1.0),\n",
       " ('основном', 1.0),\n",
       " ('заключается', 1.0),\n",
       " ('изменении', 1.0),\n",
       " ('возбудимости', 1.0)]"
      ]
     },
     "execution_count": 151,
     "metadata": {},
     "output_type": "execute_result"
    }
   ],
   "source": [
    "rake.apply(data_fuzz['context'][0]) [:10]"
   ]
  },
  {
   "cell_type": "code",
   "execution_count": 158,
   "id": "41eafc7a",
   "metadata": {},
   "outputs": [
    {
     "data": {
      "text/plain": [
       "'Является ли сниженние абсолютной чувствительности рецепторов одним из основных способов адаптации сенсорной системы?'"
      ]
     },
     "execution_count": 158,
     "metadata": {},
     "output_type": "execute_result"
    }
   ],
   "source": [
    "data_fuzz['question'][0]"
   ]
  },
  {
   "cell_type": "code",
   "execution_count": 156,
   "id": "78c66205",
   "metadata": {},
   "outputs": [
    {
     "data": {
      "text/plain": [
       "[('является', 1.0)]"
      ]
     },
     "execution_count": 156,
     "metadata": {},
     "output_type": "execute_result"
    }
   ],
   "source": [
    "rake.apply(data_fuzz['question'][0])"
   ]
  },
  {
   "cell_type": "code",
   "execution_count": 91,
   "id": "99928e07",
   "metadata": {},
   "outputs": [],
   "source": [
    "from summa import keywords"
   ]
  },
  {
   "cell_type": "code",
   "execution_count": 135,
   "id": "7ca4a962",
   "metadata": {},
   "outputs": [],
   "source": [
    "import yake\n",
    "\n",
    "extractor = yake.KeywordExtractor (\n",
    "\n",
    "    lan = \"ru\",     # язык\n",
    "    n = 1,          # максимальное количество слов в фразе\n",
    "    dedupLim = 0.3, # порог похожести слов\n",
    "    top = 5        # количество ключевых слов\n",
    ")"
   ]
  },
  {
   "cell_type": "code",
   "execution_count": 136,
   "id": "329ac9e3",
   "metadata": {},
   "outputs": [
    {
     "data": {
      "text/plain": [
       "[('действие', 0.0003317203755412491),\n",
       " ('Является', 0.0003590981105044654),\n",
       " ('крови', 0.0004638343317750434),\n",
       " ('оказывает', 0.0005000175568746666),\n",
       " ('препарат', 0.0008425406106736422)]"
      ]
     },
     "execution_count": 136,
     "metadata": {},
     "output_type": "execute_result"
    }
   ],
   "source": [
    "arr = extractor.extract_keywords(corpus_text)\n",
    "arr"
   ]
  },
  {
   "cell_type": "code",
   "execution_count": 137,
   "id": "5cca3355",
   "metadata": {},
   "outputs": [
    {
     "data": {
      "text/plain": [
       "[('Способность', 0.0987659101264725),\n",
       " ('заключается', 0.1023350691964954),\n",
       " ('адаптации', 0.13629973302207535),\n",
       " ('системы', 0.13629973302207535),\n",
       " ('длительно', 0.13629973302207535)]"
      ]
     },
     "execution_count": 137,
     "metadata": {},
     "output_type": "execute_result"
    }
   ],
   "source": [
    "word = extractor.extract_keywords(data_fuzz['context'][0])\n",
    "word"
   ]
  },
  {
   "cell_type": "code",
   "execution_count": 138,
   "id": "6c1bc5eb",
   "metadata": {},
   "outputs": [
    {
     "data": {
      "text/plain": [
       "numpy.float64"
      ]
     },
     "execution_count": 138,
     "metadata": {},
     "output_type": "execute_result"
    }
   ],
   "source": [
    "type(arr[0][1])"
   ]
  },
  {
   "cell_type": "code",
   "execution_count": 139,
   "id": "c2c51d5c",
   "metadata": {},
   "outputs": [],
   "source": [
    "arr.sort(key = lambda x: x[1], reverse=True)"
   ]
  },
  {
   "cell_type": "code",
   "execution_count": 140,
   "id": "67fe0fb0",
   "metadata": {},
   "outputs": [
    {
     "data": {
      "text/plain": [
       "[('препарат', 0.0008425406106736422),\n",
       " ('оказывает', 0.0005000175568746666),\n",
       " ('крови', 0.0004638343317750434),\n",
       " ('Является', 0.0003590981105044654),\n",
       " ('действие', 0.0003317203755412491)]"
      ]
     },
     "execution_count": 140,
     "metadata": {},
     "output_type": "execute_result"
    }
   ],
   "source": [
    "arr"
   ]
  },
  {
   "cell_type": "markdown",
   "id": "683c5c8a",
   "metadata": {},
   "source": [
    "## Text preprocessing"
   ]
  },
  {
   "cell_type": "code",
   "execution_count": 161,
   "id": "e954768b",
   "metadata": {},
   "outputs": [
    {
     "data": {
      "text/html": [
       "<div>\n",
       "<style scoped>\n",
       "    .dataframe tbody tr th:only-of-type {\n",
       "        vertical-align: middle;\n",
       "    }\n",
       "\n",
       "    .dataframe tbody tr th {\n",
       "        vertical-align: top;\n",
       "    }\n",
       "\n",
       "    .dataframe thead th {\n",
       "        text-align: right;\n",
       "    }\n",
       "</style>\n",
       "<table border=\"1\" class=\"dataframe\">\n",
       "  <thead>\n",
       "    <tr style=\"text-align: right;\">\n",
       "      <th></th>\n",
       "      <th>context</th>\n",
       "      <th>question</th>\n",
       "      <th>answer_bin</th>\n",
       "      <th>WRatio</th>\n",
       "      <th>token_sort_ratio</th>\n",
       "      <th>partial_ratio</th>\n",
       "    </tr>\n",
       "  </thead>\n",
       "  <tbody>\n",
       "    <tr>\n",
       "      <th>0</th>\n",
       "      <td>Способность к адаптации сенсорной системы к по...</td>\n",
       "      <td>Является ли сниженние абсолютной чувствительно...</td>\n",
       "      <td>1</td>\n",
       "      <td>86</td>\n",
       "      <td>35</td>\n",
       "      <td>49</td>\n",
       "    </tr>\n",
       "    <tr>\n",
       "      <th>1</th>\n",
       "      <td>Обеспечение возможности познания внешнего мира...</td>\n",
       "      <td>Бывет ли, что люди со выраженным нарушением зр...</td>\n",
       "      <td>0</td>\n",
       "      <td>86</td>\n",
       "      <td>33</td>\n",
       "      <td>53</td>\n",
       "    </tr>\n",
       "    <tr>\n",
       "      <th>2</th>\n",
       "      <td>Ощущение положения тела в пространстве связано...</td>\n",
       "      <td>Двигательный анализатор вносит значительный вк...</td>\n",
       "      <td>1</td>\n",
       "      <td>86</td>\n",
       "      <td>56</td>\n",
       "      <td>46</td>\n",
       "    </tr>\n",
       "    <tr>\n",
       "      <th>3</th>\n",
       "      <td>Нуждаемость в санитарной обработке не определя...</td>\n",
       "      <td>Сильные кислоты нельзя отнести к \"агрессивным\"...</td>\n",
       "      <td>0</td>\n",
       "      <td>86</td>\n",
       "      <td>52</td>\n",
       "      <td>54</td>\n",
       "    </tr>\n",
       "    <tr>\n",
       "      <th>4</th>\n",
       "      <td>Ведущим фактором лучевого поражения организма,...</td>\n",
       "      <td>Могут ли клетки, сохранившие жизнеспособность,...</td>\n",
       "      <td>1</td>\n",
       "      <td>86</td>\n",
       "      <td>48</td>\n",
       "      <td>57</td>\n",
       "    </tr>\n",
       "  </tbody>\n",
       "</table>\n",
       "</div>"
      ],
      "text/plain": [
       "                                             context  \\\n",
       "0  Способность к адаптации сенсорной системы к по...   \n",
       "1  Обеспечение возможности познания внешнего мира...   \n",
       "2  Ощущение положения тела в пространстве связано...   \n",
       "3  Нуждаемость в санитарной обработке не определя...   \n",
       "4  Ведущим фактором лучевого поражения организма,...   \n",
       "\n",
       "                                            question  answer_bin  WRatio  \\\n",
       "0  Является ли сниженние абсолютной чувствительно...           1      86   \n",
       "1  Бывет ли, что люди со выраженным нарушением зр...           0      86   \n",
       "2  Двигательный анализатор вносит значительный вк...           1      86   \n",
       "3  Сильные кислоты нельзя отнести к \"агрессивным\"...           0      86   \n",
       "4  Могут ли клетки, сохранившие жизнеспособность,...           1      86   \n",
       "\n",
       "   token_sort_ratio  partial_ratio  \n",
       "0                35             49  \n",
       "1                33             53  \n",
       "2                56             46  \n",
       "3                52             54  \n",
       "4                48             57  "
      ]
     },
     "execution_count": 161,
     "metadata": {},
     "output_type": "execute_result"
    }
   ],
   "source": [
    "data_fuzz.head()"
   ]
  },
  {
   "cell_type": "code",
   "execution_count": 162,
   "id": "86a093fb",
   "metadata": {},
   "outputs": [],
   "source": [
    "data_merged = data_fuzz.copy()"
   ]
  },
  {
   "cell_type": "code",
   "execution_count": 169,
   "id": "50a5b5c9",
   "metadata": {},
   "outputs": [],
   "source": [
    "context_question = []\n",
    "for i in range(len(data_merged)):\n",
    "    context_question.append(\n",
    "    data_merged['context'][i] + data_merged['question'][i])"
   ]
  },
  {
   "cell_type": "code",
   "execution_count": 172,
   "id": "534819b2",
   "metadata": {},
   "outputs": [],
   "source": [
    "data_merged['context_question'] = context_question\n",
    "data_merged = data_merged.drop(['context', 'question'], axis=1)"
   ]
  },
  {
   "cell_type": "code",
   "execution_count": 173,
   "id": "79240be0",
   "metadata": {},
   "outputs": [
    {
     "data": {
      "text/html": [
       "<div>\n",
       "<style scoped>\n",
       "    .dataframe tbody tr th:only-of-type {\n",
       "        vertical-align: middle;\n",
       "    }\n",
       "\n",
       "    .dataframe tbody tr th {\n",
       "        vertical-align: top;\n",
       "    }\n",
       "\n",
       "    .dataframe thead th {\n",
       "        text-align: right;\n",
       "    }\n",
       "</style>\n",
       "<table border=\"1\" class=\"dataframe\">\n",
       "  <thead>\n",
       "    <tr style=\"text-align: right;\">\n",
       "      <th></th>\n",
       "      <th>answer_bin</th>\n",
       "      <th>WRatio</th>\n",
       "      <th>token_sort_ratio</th>\n",
       "      <th>partial_ratio</th>\n",
       "      <th>context_question</th>\n",
       "    </tr>\n",
       "  </thead>\n",
       "  <tbody>\n",
       "    <tr>\n",
       "      <th>0</th>\n",
       "      <td>1</td>\n",
       "      <td>86</td>\n",
       "      <td>35</td>\n",
       "      <td>49</td>\n",
       "      <td>Способность к адаптации сенсорной системы к по...</td>\n",
       "    </tr>\n",
       "    <tr>\n",
       "      <th>1</th>\n",
       "      <td>0</td>\n",
       "      <td>86</td>\n",
       "      <td>33</td>\n",
       "      <td>53</td>\n",
       "      <td>Обеспечение возможности познания внешнего мира...</td>\n",
       "    </tr>\n",
       "    <tr>\n",
       "      <th>2</th>\n",
       "      <td>1</td>\n",
       "      <td>86</td>\n",
       "      <td>56</td>\n",
       "      <td>46</td>\n",
       "      <td>Ощущение положения тела в пространстве связано...</td>\n",
       "    </tr>\n",
       "    <tr>\n",
       "      <th>3</th>\n",
       "      <td>0</td>\n",
       "      <td>86</td>\n",
       "      <td>52</td>\n",
       "      <td>54</td>\n",
       "      <td>Нуждаемость в санитарной обработке не определя...</td>\n",
       "    </tr>\n",
       "    <tr>\n",
       "      <th>4</th>\n",
       "      <td>1</td>\n",
       "      <td>86</td>\n",
       "      <td>48</td>\n",
       "      <td>57</td>\n",
       "      <td>Ведущим фактором лучевого поражения организма,...</td>\n",
       "    </tr>\n",
       "  </tbody>\n",
       "</table>\n",
       "</div>"
      ],
      "text/plain": [
       "   answer_bin  WRatio  token_sort_ratio  partial_ratio  \\\n",
       "0           1      86                35             49   \n",
       "1           0      86                33             53   \n",
       "2           1      86                56             46   \n",
       "3           0      86                52             54   \n",
       "4           1      86                48             57   \n",
       "\n",
       "                                    context_question  \n",
       "0  Способность к адаптации сенсорной системы к по...  \n",
       "1  Обеспечение возможности познания внешнего мира...  \n",
       "2  Ощущение положения тела в пространстве связано...  \n",
       "3  Нуждаемость в санитарной обработке не определя...  \n",
       "4  Ведущим фактором лучевого поражения организма,...  "
      ]
     },
     "execution_count": 173,
     "metadata": {},
     "output_type": "execute_result"
    }
   ],
   "source": [
    "data_merged.head()"
   ]
  },
  {
   "cell_type": "code",
   "execution_count": 175,
   "id": "7caebfea",
   "metadata": {},
   "outputs": [],
   "source": [
    "snowball = SnowballStemmer(language=\"russian\")\n",
    "russian_stop_words = stopwords.words(\"russian\")\n",
    "\n",
    "def tokenize_sentence(sentence: str, remove_stop_words: bool = True):\n",
    "    tokens = word_tokenize(sentence, language=\"russian\")\n",
    "    tokens = [i for i in tokens if i not in string.punctuation]\n",
    "    if remove_stop_words:\n",
    "        tokens = [i for i in tokens if i not in russian_stop_words]\n",
    "    tokens = [snowball.stem(i) for i in tokens]\n",
    "    return tokens"
   ]
  },
  {
   "cell_type": "code",
   "execution_count": 176,
   "id": "3b48eebc",
   "metadata": {},
   "outputs": [],
   "source": [
    "vectorizer = TfidfVectorizer(tokenizer=lambda x: tokenize_sentence(x, remove_stop_words=True))"
   ]
  },
  {
   "cell_type": "markdown",
   "id": "e36b0ef2",
   "metadata": {},
   "source": [
    "## Feature preprocessing"
   ]
  },
  {
   "cell_type": "code",
   "execution_count": 188,
   "id": "bc97873c",
   "metadata": {},
   "outputs": [],
   "source": [
    "X = pd.DataFrame.sparse.from_spmatrix(\n",
    "    vectorizer.fit_transform(data_merged[\"context_question\"])\n",
    ")"
   ]
  },
  {
   "cell_type": "code",
   "execution_count": 197,
   "id": "66e9439c",
   "metadata": {},
   "outputs": [],
   "source": [
    "# X['WRatio'] = preprocessing.normalize(data_merged['WRatio'])"
   ]
  },
  {
   "cell_type": "code",
   "execution_count": 198,
   "id": "01a41b1c",
   "metadata": {},
   "outputs": [],
   "source": [
    "# preprocessing.normalize(np.array(data_merged['WRatio']))"
   ]
  },
  {
   "cell_type": "code",
   "execution_count": 199,
   "id": "74e571c7",
   "metadata": {},
   "outputs": [],
   "source": [
    "scaler = MinMaxScaler()"
   ]
  },
  {
   "cell_type": "code",
   "execution_count": 202,
   "id": "9b58e62e",
   "metadata": {},
   "outputs": [],
   "source": [
    "data_normalized = data_merged[['WRatio', 'token_sort_ratio', 'partial_ratio']]"
   ]
  },
  {
   "cell_type": "code",
   "execution_count": 205,
   "id": "5ae389a9",
   "metadata": {},
   "outputs": [],
   "source": [
    "data_normalized = pd.DataFrame(scaler.fit_transform(data_normalized),\n",
    "            columns=data_normalized.columns, index=data_normalized.index) "
   ]
  },
  {
   "cell_type": "code",
   "execution_count": 206,
   "id": "df3e4ea2",
   "metadata": {},
   "outputs": [
    {
     "data": {
      "text/html": [
       "<div>\n",
       "<style scoped>\n",
       "    .dataframe tbody tr th:only-of-type {\n",
       "        vertical-align: middle;\n",
       "    }\n",
       "\n",
       "    .dataframe tbody tr th {\n",
       "        vertical-align: top;\n",
       "    }\n",
       "\n",
       "    .dataframe thead th {\n",
       "        text-align: right;\n",
       "    }\n",
       "</style>\n",
       "<table border=\"1\" class=\"dataframe\">\n",
       "  <thead>\n",
       "    <tr style=\"text-align: right;\">\n",
       "      <th></th>\n",
       "      <th>WRatio</th>\n",
       "      <th>token_sort_ratio</th>\n",
       "      <th>partial_ratio</th>\n",
       "    </tr>\n",
       "  </thead>\n",
       "  <tbody>\n",
       "    <tr>\n",
       "      <th>0</th>\n",
       "      <td>0.954545</td>\n",
       "      <td>0.461538</td>\n",
       "      <td>0.225806</td>\n",
       "    </tr>\n",
       "    <tr>\n",
       "      <th>1</th>\n",
       "      <td>0.954545</td>\n",
       "      <td>0.430769</td>\n",
       "      <td>0.290323</td>\n",
       "    </tr>\n",
       "    <tr>\n",
       "      <th>2</th>\n",
       "      <td>0.954545</td>\n",
       "      <td>0.784615</td>\n",
       "      <td>0.177419</td>\n",
       "    </tr>\n",
       "    <tr>\n",
       "      <th>3</th>\n",
       "      <td>0.954545</td>\n",
       "      <td>0.723077</td>\n",
       "      <td>0.306452</td>\n",
       "    </tr>\n",
       "    <tr>\n",
       "      <th>4</th>\n",
       "      <td>0.954545</td>\n",
       "      <td>0.661538</td>\n",
       "      <td>0.354839</td>\n",
       "    </tr>\n",
       "    <tr>\n",
       "      <th>...</th>\n",
       "      <td>...</td>\n",
       "      <td>...</td>\n",
       "      <td>...</td>\n",
       "    </tr>\n",
       "    <tr>\n",
       "      <th>1303</th>\n",
       "      <td>0.954545</td>\n",
       "      <td>0.476923</td>\n",
       "      <td>0.419355</td>\n",
       "    </tr>\n",
       "    <tr>\n",
       "      <th>1304</th>\n",
       "      <td>0.515152</td>\n",
       "      <td>0.153846</td>\n",
       "      <td>0.322581</td>\n",
       "    </tr>\n",
       "    <tr>\n",
       "      <th>1305</th>\n",
       "      <td>0.515152</td>\n",
       "      <td>0.153846</td>\n",
       "      <td>0.112903</td>\n",
       "    </tr>\n",
       "    <tr>\n",
       "      <th>1306</th>\n",
       "      <td>0.136364</td>\n",
       "      <td>0.123077</td>\n",
       "      <td>0.274194</td>\n",
       "    </tr>\n",
       "    <tr>\n",
       "      <th>1307</th>\n",
       "      <td>0.954545</td>\n",
       "      <td>0.384615</td>\n",
       "      <td>0.129032</td>\n",
       "    </tr>\n",
       "  </tbody>\n",
       "</table>\n",
       "<p>1308 rows × 3 columns</p>\n",
       "</div>"
      ],
      "text/plain": [
       "        WRatio  token_sort_ratio  partial_ratio\n",
       "0     0.954545          0.461538       0.225806\n",
       "1     0.954545          0.430769       0.290323\n",
       "2     0.954545          0.784615       0.177419\n",
       "3     0.954545          0.723077       0.306452\n",
       "4     0.954545          0.661538       0.354839\n",
       "...        ...               ...            ...\n",
       "1303  0.954545          0.476923       0.419355\n",
       "1304  0.515152          0.153846       0.322581\n",
       "1305  0.515152          0.153846       0.112903\n",
       "1306  0.136364          0.123077       0.274194\n",
       "1307  0.954545          0.384615       0.129032\n",
       "\n",
       "[1308 rows x 3 columns]"
      ]
     },
     "execution_count": 206,
     "metadata": {},
     "output_type": "execute_result"
    }
   ],
   "source": [
    "data_normalized"
   ]
  },
  {
   "cell_type": "code",
   "execution_count": 212,
   "id": "395aa19a",
   "metadata": {},
   "outputs": [],
   "source": [
    "X = pd.concat([X, data_normalized], axis=1)"
   ]
  },
  {
   "cell_type": "code",
   "execution_count": 213,
   "id": "27b25c82",
   "metadata": {},
   "outputs": [
    {
     "data": {
      "text/html": [
       "<div>\n",
       "<style scoped>\n",
       "    .dataframe tbody tr th:only-of-type {\n",
       "        vertical-align: middle;\n",
       "    }\n",
       "\n",
       "    .dataframe tbody tr th {\n",
       "        vertical-align: top;\n",
       "    }\n",
       "\n",
       "    .dataframe thead th {\n",
       "        text-align: right;\n",
       "    }\n",
       "</style>\n",
       "<table border=\"1\" class=\"dataframe\">\n",
       "  <thead>\n",
       "    <tr style=\"text-align: right;\">\n",
       "      <th></th>\n",
       "      <th>0</th>\n",
       "      <th>1</th>\n",
       "      <th>2</th>\n",
       "      <th>3</th>\n",
       "      <th>4</th>\n",
       "      <th>5</th>\n",
       "      <th>6</th>\n",
       "      <th>7</th>\n",
       "      <th>8</th>\n",
       "      <th>9</th>\n",
       "      <th>...</th>\n",
       "      <th>11030</th>\n",
       "      <th>11031</th>\n",
       "      <th>11032</th>\n",
       "      <th>11033</th>\n",
       "      <th>11034</th>\n",
       "      <th>11035</th>\n",
       "      <th>11036</th>\n",
       "      <th>WRatio</th>\n",
       "      <th>token_sort_ratio</th>\n",
       "      <th>partial_ratio</th>\n",
       "    </tr>\n",
       "  </thead>\n",
       "  <tbody>\n",
       "    <tr>\n",
       "      <th>0</th>\n",
       "      <td>0.000000</td>\n",
       "      <td>0.0</td>\n",
       "      <td>0.0</td>\n",
       "      <td>0.0</td>\n",
       "      <td>0.0</td>\n",
       "      <td>0.0</td>\n",
       "      <td>0.0</td>\n",
       "      <td>0.0</td>\n",
       "      <td>0.0</td>\n",
       "      <td>0.0</td>\n",
       "      <td>...</td>\n",
       "      <td>0.000000</td>\n",
       "      <td>0.0</td>\n",
       "      <td>0.0</td>\n",
       "      <td>0.0</td>\n",
       "      <td>0.0</td>\n",
       "      <td>0.0</td>\n",
       "      <td>0.0</td>\n",
       "      <td>0.954545</td>\n",
       "      <td>0.461538</td>\n",
       "      <td>0.225806</td>\n",
       "    </tr>\n",
       "    <tr>\n",
       "      <th>1</th>\n",
       "      <td>0.000000</td>\n",
       "      <td>0.0</td>\n",
       "      <td>0.0</td>\n",
       "      <td>0.0</td>\n",
       "      <td>0.0</td>\n",
       "      <td>0.0</td>\n",
       "      <td>0.0</td>\n",
       "      <td>0.0</td>\n",
       "      <td>0.0</td>\n",
       "      <td>0.0</td>\n",
       "      <td>...</td>\n",
       "      <td>0.000000</td>\n",
       "      <td>0.0</td>\n",
       "      <td>0.0</td>\n",
       "      <td>0.0</td>\n",
       "      <td>0.0</td>\n",
       "      <td>0.0</td>\n",
       "      <td>0.0</td>\n",
       "      <td>0.954545</td>\n",
       "      <td>0.430769</td>\n",
       "      <td>0.290323</td>\n",
       "    </tr>\n",
       "    <tr>\n",
       "      <th>2</th>\n",
       "      <td>0.000000</td>\n",
       "      <td>0.0</td>\n",
       "      <td>0.0</td>\n",
       "      <td>0.0</td>\n",
       "      <td>0.0</td>\n",
       "      <td>0.0</td>\n",
       "      <td>0.0</td>\n",
       "      <td>0.0</td>\n",
       "      <td>0.0</td>\n",
       "      <td>0.0</td>\n",
       "      <td>...</td>\n",
       "      <td>0.000000</td>\n",
       "      <td>0.0</td>\n",
       "      <td>0.0</td>\n",
       "      <td>0.0</td>\n",
       "      <td>0.0</td>\n",
       "      <td>0.0</td>\n",
       "      <td>0.0</td>\n",
       "      <td>0.954545</td>\n",
       "      <td>0.784615</td>\n",
       "      <td>0.177419</td>\n",
       "    </tr>\n",
       "    <tr>\n",
       "      <th>3</th>\n",
       "      <td>0.226588</td>\n",
       "      <td>0.0</td>\n",
       "      <td>0.0</td>\n",
       "      <td>0.0</td>\n",
       "      <td>0.0</td>\n",
       "      <td>0.0</td>\n",
       "      <td>0.0</td>\n",
       "      <td>0.0</td>\n",
       "      <td>0.0</td>\n",
       "      <td>0.0</td>\n",
       "      <td>...</td>\n",
       "      <td>0.000000</td>\n",
       "      <td>0.0</td>\n",
       "      <td>0.0</td>\n",
       "      <td>0.0</td>\n",
       "      <td>0.0</td>\n",
       "      <td>0.0</td>\n",
       "      <td>0.0</td>\n",
       "      <td>0.954545</td>\n",
       "      <td>0.723077</td>\n",
       "      <td>0.306452</td>\n",
       "    </tr>\n",
       "    <tr>\n",
       "      <th>4</th>\n",
       "      <td>0.000000</td>\n",
       "      <td>0.0</td>\n",
       "      <td>0.0</td>\n",
       "      <td>0.0</td>\n",
       "      <td>0.0</td>\n",
       "      <td>0.0</td>\n",
       "      <td>0.0</td>\n",
       "      <td>0.0</td>\n",
       "      <td>0.0</td>\n",
       "      <td>0.0</td>\n",
       "      <td>...</td>\n",
       "      <td>0.176428</td>\n",
       "      <td>0.0</td>\n",
       "      <td>0.0</td>\n",
       "      <td>0.0</td>\n",
       "      <td>0.0</td>\n",
       "      <td>0.0</td>\n",
       "      <td>0.0</td>\n",
       "      <td>0.954545</td>\n",
       "      <td>0.661538</td>\n",
       "      <td>0.354839</td>\n",
       "    </tr>\n",
       "    <tr>\n",
       "      <th>...</th>\n",
       "      <td>...</td>\n",
       "      <td>...</td>\n",
       "      <td>...</td>\n",
       "      <td>...</td>\n",
       "      <td>...</td>\n",
       "      <td>...</td>\n",
       "      <td>...</td>\n",
       "      <td>...</td>\n",
       "      <td>...</td>\n",
       "      <td>...</td>\n",
       "      <td>...</td>\n",
       "      <td>...</td>\n",
       "      <td>...</td>\n",
       "      <td>...</td>\n",
       "      <td>...</td>\n",
       "      <td>...</td>\n",
       "      <td>...</td>\n",
       "      <td>...</td>\n",
       "      <td>...</td>\n",
       "      <td>...</td>\n",
       "      <td>...</td>\n",
       "    </tr>\n",
       "    <tr>\n",
       "      <th>1303</th>\n",
       "      <td>0.000000</td>\n",
       "      <td>0.0</td>\n",
       "      <td>0.0</td>\n",
       "      <td>0.0</td>\n",
       "      <td>0.0</td>\n",
       "      <td>0.0</td>\n",
       "      <td>0.0</td>\n",
       "      <td>0.0</td>\n",
       "      <td>0.0</td>\n",
       "      <td>0.0</td>\n",
       "      <td>...</td>\n",
       "      <td>0.000000</td>\n",
       "      <td>0.0</td>\n",
       "      <td>0.0</td>\n",
       "      <td>0.0</td>\n",
       "      <td>0.0</td>\n",
       "      <td>0.0</td>\n",
       "      <td>0.0</td>\n",
       "      <td>0.954545</td>\n",
       "      <td>0.476923</td>\n",
       "      <td>0.419355</td>\n",
       "    </tr>\n",
       "    <tr>\n",
       "      <th>1304</th>\n",
       "      <td>0.000000</td>\n",
       "      <td>0.0</td>\n",
       "      <td>0.0</td>\n",
       "      <td>0.0</td>\n",
       "      <td>0.0</td>\n",
       "      <td>0.0</td>\n",
       "      <td>0.0</td>\n",
       "      <td>0.0</td>\n",
       "      <td>0.0</td>\n",
       "      <td>0.0</td>\n",
       "      <td>...</td>\n",
       "      <td>0.000000</td>\n",
       "      <td>0.0</td>\n",
       "      <td>0.0</td>\n",
       "      <td>0.0</td>\n",
       "      <td>0.0</td>\n",
       "      <td>0.0</td>\n",
       "      <td>0.0</td>\n",
       "      <td>0.515152</td>\n",
       "      <td>0.153846</td>\n",
       "      <td>0.322581</td>\n",
       "    </tr>\n",
       "    <tr>\n",
       "      <th>1305</th>\n",
       "      <td>0.000000</td>\n",
       "      <td>0.0</td>\n",
       "      <td>0.0</td>\n",
       "      <td>0.0</td>\n",
       "      <td>0.0</td>\n",
       "      <td>0.0</td>\n",
       "      <td>0.0</td>\n",
       "      <td>0.0</td>\n",
       "      <td>0.0</td>\n",
       "      <td>0.0</td>\n",
       "      <td>...</td>\n",
       "      <td>0.000000</td>\n",
       "      <td>0.0</td>\n",
       "      <td>0.0</td>\n",
       "      <td>0.0</td>\n",
       "      <td>0.0</td>\n",
       "      <td>0.0</td>\n",
       "      <td>0.0</td>\n",
       "      <td>0.515152</td>\n",
       "      <td>0.153846</td>\n",
       "      <td>0.112903</td>\n",
       "    </tr>\n",
       "    <tr>\n",
       "      <th>1306</th>\n",
       "      <td>0.000000</td>\n",
       "      <td>0.0</td>\n",
       "      <td>0.0</td>\n",
       "      <td>0.0</td>\n",
       "      <td>0.0</td>\n",
       "      <td>0.0</td>\n",
       "      <td>0.0</td>\n",
       "      <td>0.0</td>\n",
       "      <td>0.0</td>\n",
       "      <td>0.0</td>\n",
       "      <td>...</td>\n",
       "      <td>0.000000</td>\n",
       "      <td>0.0</td>\n",
       "      <td>0.0</td>\n",
       "      <td>0.0</td>\n",
       "      <td>0.0</td>\n",
       "      <td>0.0</td>\n",
       "      <td>0.0</td>\n",
       "      <td>0.136364</td>\n",
       "      <td>0.123077</td>\n",
       "      <td>0.274194</td>\n",
       "    </tr>\n",
       "    <tr>\n",
       "      <th>1307</th>\n",
       "      <td>0.000000</td>\n",
       "      <td>0.0</td>\n",
       "      <td>0.0</td>\n",
       "      <td>0.0</td>\n",
       "      <td>0.0</td>\n",
       "      <td>0.0</td>\n",
       "      <td>0.0</td>\n",
       "      <td>0.0</td>\n",
       "      <td>0.0</td>\n",
       "      <td>0.0</td>\n",
       "      <td>...</td>\n",
       "      <td>0.000000</td>\n",
       "      <td>0.0</td>\n",
       "      <td>0.0</td>\n",
       "      <td>0.0</td>\n",
       "      <td>0.0</td>\n",
       "      <td>0.0</td>\n",
       "      <td>0.0</td>\n",
       "      <td>0.954545</td>\n",
       "      <td>0.384615</td>\n",
       "      <td>0.129032</td>\n",
       "    </tr>\n",
       "  </tbody>\n",
       "</table>\n",
       "<p>1308 rows × 11040 columns</p>\n",
       "</div>"
      ],
      "text/plain": [
       "             0    1    2    3    4    5    6    7    8    9  ...     11030  \\\n",
       "0     0.000000  0.0  0.0  0.0  0.0  0.0  0.0  0.0  0.0  0.0  ...  0.000000   \n",
       "1     0.000000  0.0  0.0  0.0  0.0  0.0  0.0  0.0  0.0  0.0  ...  0.000000   \n",
       "2     0.000000  0.0  0.0  0.0  0.0  0.0  0.0  0.0  0.0  0.0  ...  0.000000   \n",
       "3     0.226588  0.0  0.0  0.0  0.0  0.0  0.0  0.0  0.0  0.0  ...  0.000000   \n",
       "4     0.000000  0.0  0.0  0.0  0.0  0.0  0.0  0.0  0.0  0.0  ...  0.176428   \n",
       "...        ...  ...  ...  ...  ...  ...  ...  ...  ...  ...  ...       ...   \n",
       "1303  0.000000  0.0  0.0  0.0  0.0  0.0  0.0  0.0  0.0  0.0  ...  0.000000   \n",
       "1304  0.000000  0.0  0.0  0.0  0.0  0.0  0.0  0.0  0.0  0.0  ...  0.000000   \n",
       "1305  0.000000  0.0  0.0  0.0  0.0  0.0  0.0  0.0  0.0  0.0  ...  0.000000   \n",
       "1306  0.000000  0.0  0.0  0.0  0.0  0.0  0.0  0.0  0.0  0.0  ...  0.000000   \n",
       "1307  0.000000  0.0  0.0  0.0  0.0  0.0  0.0  0.0  0.0  0.0  ...  0.000000   \n",
       "\n",
       "      11031  11032  11033  11034  11035  11036    WRatio  token_sort_ratio  \\\n",
       "0       0.0    0.0    0.0    0.0    0.0    0.0  0.954545          0.461538   \n",
       "1       0.0    0.0    0.0    0.0    0.0    0.0  0.954545          0.430769   \n",
       "2       0.0    0.0    0.0    0.0    0.0    0.0  0.954545          0.784615   \n",
       "3       0.0    0.0    0.0    0.0    0.0    0.0  0.954545          0.723077   \n",
       "4       0.0    0.0    0.0    0.0    0.0    0.0  0.954545          0.661538   \n",
       "...     ...    ...    ...    ...    ...    ...       ...               ...   \n",
       "1303    0.0    0.0    0.0    0.0    0.0    0.0  0.954545          0.476923   \n",
       "1304    0.0    0.0    0.0    0.0    0.0    0.0  0.515152          0.153846   \n",
       "1305    0.0    0.0    0.0    0.0    0.0    0.0  0.515152          0.153846   \n",
       "1306    0.0    0.0    0.0    0.0    0.0    0.0  0.136364          0.123077   \n",
       "1307    0.0    0.0    0.0    0.0    0.0    0.0  0.954545          0.384615   \n",
       "\n",
       "      partial_ratio  \n",
       "0          0.225806  \n",
       "1          0.290323  \n",
       "2          0.177419  \n",
       "3          0.306452  \n",
       "4          0.354839  \n",
       "...             ...  \n",
       "1303       0.419355  \n",
       "1304       0.322581  \n",
       "1305       0.112903  \n",
       "1306       0.274194  \n",
       "1307       0.129032  \n",
       "\n",
       "[1308 rows x 11040 columns]"
      ]
     },
     "execution_count": 213,
     "metadata": {},
     "output_type": "execute_result"
    }
   ],
   "source": [
    "X"
   ]
  },
  {
   "cell_type": "code",
   "execution_count": 214,
   "id": "61ec242f",
   "metadata": {},
   "outputs": [],
   "source": [
    "Y = data_merged['answer_bin']"
   ]
  },
  {
   "cell_type": "code",
   "execution_count": 215,
   "id": "5d9977b5",
   "metadata": {},
   "outputs": [
    {
     "name": "stdout",
     "output_type": "stream",
     "text": [
      "(1308, 11040)\n",
      "(1308,)\n"
     ]
    }
   ],
   "source": [
    "print(X.shape)\n",
    "print(Y.shape)"
   ]
  },
  {
   "cell_type": "markdown",
   "id": "e12ddef2",
   "metadata": {},
   "source": [
    "## Modeling"
   ]
  },
  {
   "cell_type": "code",
   "execution_count": 216,
   "id": "ad1e71c0",
   "metadata": {},
   "outputs": [
    {
     "name": "stderr",
     "output_type": "stream",
     "text": [
      "C:\\Users\\foa1s\\anaconda3\\lib\\site-packages\\sklearn\\utils\\validation.py:1858: FutureWarning: Feature names only support names that are all strings. Got feature names with dtypes: ['int', 'str']. An error will be raised in 1.2.\n",
      "  warnings.warn(\n",
      "C:\\Users\\foa1s\\anaconda3\\lib\\site-packages\\sklearn\\utils\\validation.py:758: UserWarning: pandas.DataFrame with sparse columns found.It will be converted to a dense numpy array.\n",
      "  warnings.warn(\n"
     ]
    },
    {
     "data": {
      "text/html": [
       "<style>#sk-container-id-1 {color: black;background-color: white;}#sk-container-id-1 pre{padding: 0;}#sk-container-id-1 div.sk-toggleable {background-color: white;}#sk-container-id-1 label.sk-toggleable__label {cursor: pointer;display: block;width: 100%;margin-bottom: 0;padding: 0.3em;box-sizing: border-box;text-align: center;}#sk-container-id-1 label.sk-toggleable__label-arrow:before {content: \"▸\";float: left;margin-right: 0.25em;color: #696969;}#sk-container-id-1 label.sk-toggleable__label-arrow:hover:before {color: black;}#sk-container-id-1 div.sk-estimator:hover label.sk-toggleable__label-arrow:before {color: black;}#sk-container-id-1 div.sk-toggleable__content {max-height: 0;max-width: 0;overflow: hidden;text-align: left;background-color: #f0f8ff;}#sk-container-id-1 div.sk-toggleable__content pre {margin: 0.2em;color: black;border-radius: 0.25em;background-color: #f0f8ff;}#sk-container-id-1 input.sk-toggleable__control:checked~div.sk-toggleable__content {max-height: 200px;max-width: 100%;overflow: auto;}#sk-container-id-1 input.sk-toggleable__control:checked~label.sk-toggleable__label-arrow:before {content: \"▾\";}#sk-container-id-1 div.sk-estimator input.sk-toggleable__control:checked~label.sk-toggleable__label {background-color: #d4ebff;}#sk-container-id-1 div.sk-label input.sk-toggleable__control:checked~label.sk-toggleable__label {background-color: #d4ebff;}#sk-container-id-1 input.sk-hidden--visually {border: 0;clip: rect(1px 1px 1px 1px);clip: rect(1px, 1px, 1px, 1px);height: 1px;margin: -1px;overflow: hidden;padding: 0;position: absolute;width: 1px;}#sk-container-id-1 div.sk-estimator {font-family: monospace;background-color: #f0f8ff;border: 1px dotted black;border-radius: 0.25em;box-sizing: border-box;margin-bottom: 0.5em;}#sk-container-id-1 div.sk-estimator:hover {background-color: #d4ebff;}#sk-container-id-1 div.sk-parallel-item::after {content: \"\";width: 100%;border-bottom: 1px solid gray;flex-grow: 1;}#sk-container-id-1 div.sk-label:hover label.sk-toggleable__label {background-color: #d4ebff;}#sk-container-id-1 div.sk-serial::before {content: \"\";position: absolute;border-left: 1px solid gray;box-sizing: border-box;top: 0;bottom: 0;left: 50%;z-index: 0;}#sk-container-id-1 div.sk-serial {display: flex;flex-direction: column;align-items: center;background-color: white;padding-right: 0.2em;padding-left: 0.2em;position: relative;}#sk-container-id-1 div.sk-item {position: relative;z-index: 1;}#sk-container-id-1 div.sk-parallel {display: flex;align-items: stretch;justify-content: center;background-color: white;position: relative;}#sk-container-id-1 div.sk-item::before, #sk-container-id-1 div.sk-parallel-item::before {content: \"\";position: absolute;border-left: 1px solid gray;box-sizing: border-box;top: 0;bottom: 0;left: 50%;z-index: -1;}#sk-container-id-1 div.sk-parallel-item {display: flex;flex-direction: column;z-index: 1;position: relative;background-color: white;}#sk-container-id-1 div.sk-parallel-item:first-child::after {align-self: flex-end;width: 50%;}#sk-container-id-1 div.sk-parallel-item:last-child::after {align-self: flex-start;width: 50%;}#sk-container-id-1 div.sk-parallel-item:only-child::after {width: 0;}#sk-container-id-1 div.sk-dashed-wrapped {border: 1px dashed gray;margin: 0 0.4em 0.5em 0.4em;box-sizing: border-box;padding-bottom: 0.4em;background-color: white;}#sk-container-id-1 div.sk-label label {font-family: monospace;font-weight: bold;display: inline-block;line-height: 1.2em;}#sk-container-id-1 div.sk-label-container {text-align: center;}#sk-container-id-1 div.sk-container {/* jupyter's `normalize.less` sets `[hidden] { display: none; }` but bootstrap.min.css set `[hidden] { display: none !important; }` so we also need the `!important` here to be able to override the default hidden behavior on the sphinx rendered scikit-learn.org. See: https://github.com/scikit-learn/scikit-learn/issues/21755 */display: inline-block !important;position: relative;}#sk-container-id-1 div.sk-text-repr-fallback {display: none;}</style><div id=\"sk-container-id-1\" class=\"sk-top-container\"><div class=\"sk-text-repr-fallback\"><pre>LogisticRegression(random_state=0)</pre><b>In a Jupyter environment, please rerun this cell to show the HTML representation or trust the notebook. <br />On GitHub, the HTML representation is unable to render, please try loading this page with nbviewer.org.</b></div><div class=\"sk-container\" hidden><div class=\"sk-item\"><div class=\"sk-estimator sk-toggleable\"><input class=\"sk-toggleable__control sk-hidden--visually\" id=\"sk-estimator-id-1\" type=\"checkbox\" checked><label for=\"sk-estimator-id-1\" class=\"sk-toggleable__label sk-toggleable__label-arrow\">LogisticRegression</label><div class=\"sk-toggleable__content\"><pre>LogisticRegression(random_state=0)</pre></div></div></div></div></div>"
      ],
      "text/plain": [
       "LogisticRegression(random_state=0)"
      ]
     },
     "execution_count": 216,
     "metadata": {},
     "output_type": "execute_result"
    }
   ],
   "source": [
    "model = LogisticRegression(random_state=0)\n",
    "model.fit(X, Y)"
   ]
  },
  {
   "cell_type": "code",
   "execution_count": 218,
   "id": "a1c4cfa6",
   "metadata": {},
   "outputs": [],
   "source": [
    "df = X.copy()\n",
    "df['target'] = Y"
   ]
  },
  {
   "cell_type": "code",
   "execution_count": 220,
   "id": "63313bf5",
   "metadata": {},
   "outputs": [],
   "source": [
    "train_df, test_df = train_test_split(df, test_size=500)"
   ]
  },
  {
   "cell_type": "code",
   "execution_count": 221,
   "id": "d1b0c33a",
   "metadata": {},
   "outputs": [
    {
     "data": {
      "text/plain": [
       "1    262\n",
       "0    238\n",
       "Name: target, dtype: int64"
      ]
     },
     "execution_count": 221,
     "metadata": {},
     "output_type": "execute_result"
    }
   ],
   "source": [
    "test_df['target'].value_counts()"
   ]
  },
  {
   "cell_type": "code",
   "execution_count": null,
   "id": "65a378cc",
   "metadata": {},
   "outputs": [],
   "source": [
    "X_train,X_test, y_train, y_test = train_test_split(X, y, test_size=0.3, random_state=0)"
   ]
  }
 ],
 "metadata": {
  "kernelspec": {
   "display_name": "Python 3",
   "language": "python",
   "name": "python3"
  },
  "language_info": {
   "codemirror_mode": {
    "name": "ipython",
    "version": 3
   },
   "file_extension": ".py",
   "mimetype": "text/x-python",
   "name": "python",
   "nbconvert_exporter": "python",
   "pygments_lexer": "ipython3",
   "version": "3.8.8"
  }
 },
 "nbformat": 4,
 "nbformat_minor": 5
}
